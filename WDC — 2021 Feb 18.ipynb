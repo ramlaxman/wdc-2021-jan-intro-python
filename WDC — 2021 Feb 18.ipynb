{
 "cells": [
  {
   "cell_type": "markdown",
   "metadata": {},
   "source": [
    "# Agenda\n",
    "\n",
    "1. Dict comprehensions\n",
    "2. Set comprehensions\n",
    "3. Nested comprehensions\n",
    "4. `lambda`\n",
    "5. virtualenv\n",
    "6. Pakcages and distributions\n",
    "\n",
    "7. Objects\n",
    "    - Classes\n",
    "    - Attributes\n",
    "    - Methods"
   ]
  },
  {
   "cell_type": "code",
   "execution_count": 1,
   "metadata": {},
   "outputs": [
    {
     "data": {
      "text/plain": [
       "[['root', '0'],\n",
       " ['daemon', '1'],\n",
       " ['bin', '2'],\n",
       " ['sys', '3'],\n",
       " ['sync', '4'],\n",
       " ['games', '5'],\n",
       " ['man', '6'],\n",
       " ['lp', '7'],\n",
       " ['mail', '8'],\n",
       " ['news', '9'],\n",
       " ['uucp', '10'],\n",
       " ['proxy', '13'],\n",
       " ['www-data', '33'],\n",
       " ['backup', '34'],\n",
       " ['list', '38'],\n",
       " ['irc', '39'],\n",
       " ['gnats', '41'],\n",
       " ['nobody', '65534'],\n",
       " ['syslog', '101'],\n",
       " ['messagebus', '102'],\n",
       " ['landscape', '103'],\n",
       " ['jci', '955'],\n",
       " ['sshd', '104'],\n",
       " ['user', '1000'],\n",
       " ['reuven', '1001'],\n",
       " ['postfix', '105'],\n",
       " ['colord', '106'],\n",
       " ['postgres', '107'],\n",
       " ['dovecot', '108'],\n",
       " ['dovenull', '109'],\n",
       " ['postgrey', '110'],\n",
       " ['debian-spamd', '111'],\n",
       " ['memcache', '113'],\n",
       " ['genadi', '1002'],\n",
       " ['shira', '1003'],\n",
       " ['atara', '1004'],\n",
       " ['shikma', '1005'],\n",
       " ['amotz', '1006'],\n",
       " ['mysql', '114'],\n",
       " ['clamav', '115'],\n",
       " ['amavis', '116'],\n",
       " ['opendkim', '117'],\n",
       " ['gitlab-redis', '999'],\n",
       " ['gitlab-psql', '998'],\n",
       " ['git', '1007'],\n",
       " ['opendmarc', '118'],\n",
       " ['dkim-milter-python', '119'],\n",
       " ['deploy', '1008'],\n",
       " ['redis', '112']]"
      ]
     },
     "execution_count": 1,
     "metadata": {},
     "output_type": "execute_result"
    }
   ],
   "source": [
    "# list comprehension\n",
    "\n",
    "[[one_line.split(':')[0], one_line.split(':')[2]]\n",
    " for one_line in open('linux-etc-passwd.txt')\n",
    " if not one_line.startswith(('#', '\\n'))]"
   ]
  },
  {
   "cell_type": "code",
   "execution_count": 2,
   "metadata": {},
   "outputs": [
    {
     "data": {
      "text/plain": [
       "{'root': '0',\n",
       " 'daemon': '1',\n",
       " 'bin': '2',\n",
       " 'sys': '3',\n",
       " 'sync': '4',\n",
       " 'games': '5',\n",
       " 'man': '6',\n",
       " 'lp': '7',\n",
       " 'mail': '8',\n",
       " 'news': '9',\n",
       " 'uucp': '10',\n",
       " 'proxy': '13',\n",
       " 'www-data': '33',\n",
       " 'backup': '34',\n",
       " 'list': '38',\n",
       " 'irc': '39',\n",
       " 'gnats': '41',\n",
       " 'nobody': '65534',\n",
       " 'syslog': '101',\n",
       " 'messagebus': '102',\n",
       " 'landscape': '103',\n",
       " 'jci': '955',\n",
       " 'sshd': '104',\n",
       " 'user': '1000',\n",
       " 'reuven': '1001',\n",
       " 'postfix': '105',\n",
       " 'colord': '106',\n",
       " 'postgres': '107',\n",
       " 'dovecot': '108',\n",
       " 'dovenull': '109',\n",
       " 'postgrey': '110',\n",
       " 'debian-spamd': '111',\n",
       " 'memcache': '113',\n",
       " 'genadi': '1002',\n",
       " 'shira': '1003',\n",
       " 'atara': '1004',\n",
       " 'shikma': '1005',\n",
       " 'amotz': '1006',\n",
       " 'mysql': '114',\n",
       " 'clamav': '115',\n",
       " 'amavis': '116',\n",
       " 'opendkim': '117',\n",
       " 'gitlab-redis': '999',\n",
       " 'gitlab-psql': '998',\n",
       " 'git': '1007',\n",
       " 'opendmarc': '118',\n",
       " 'dkim-milter-python': '119',\n",
       " 'deploy': '1008',\n",
       " 'redis': '112'}"
      ]
     },
     "execution_count": 2,
     "metadata": {},
     "output_type": "execute_result"
    }
   ],
   "source": [
    "dict([[one_line.split(':')[0], one_line.split(':')[2]]\n",
    " for one_line in open('linux-etc-passwd.txt')\n",
    " if not one_line.startswith(('#', '\\n'))])"
   ]
  },
  {
   "cell_type": "code",
   "execution_count": 4,
   "metadata": {},
   "outputs": [
    {
     "data": {
      "text/plain": [
       "{'root': '0',\n",
       " 'daemon': '1',\n",
       " 'bin': '2',\n",
       " 'sys': '3',\n",
       " 'sync': '4',\n",
       " 'games': '5',\n",
       " 'man': '6',\n",
       " 'lp': '7',\n",
       " 'mail': '8',\n",
       " 'news': '9',\n",
       " 'uucp': '10',\n",
       " 'proxy': '13',\n",
       " 'www-data': '33',\n",
       " 'backup': '34',\n",
       " 'list': '38',\n",
       " 'irc': '39',\n",
       " 'gnats': '41',\n",
       " 'nobody': '65534',\n",
       " 'syslog': '101',\n",
       " 'messagebus': '102',\n",
       " 'landscape': '103',\n",
       " 'jci': '955',\n",
       " 'sshd': '104',\n",
       " 'user': '1000',\n",
       " 'reuven': '1001',\n",
       " 'postfix': '105',\n",
       " 'colord': '106',\n",
       " 'postgres': '107',\n",
       " 'dovecot': '108',\n",
       " 'dovenull': '109',\n",
       " 'postgrey': '110',\n",
       " 'debian-spamd': '111',\n",
       " 'memcache': '113',\n",
       " 'genadi': '1002',\n",
       " 'shira': '1003',\n",
       " 'atara': '1004',\n",
       " 'shikma': '1005',\n",
       " 'amotz': '1006',\n",
       " 'mysql': '114',\n",
       " 'clamav': '115',\n",
       " 'amavis': '116',\n",
       " 'opendkim': '117',\n",
       " 'gitlab-redis': '999',\n",
       " 'gitlab-psql': '998',\n",
       " 'git': '1007',\n",
       " 'opendmarc': '118',\n",
       " 'dkim-milter-python': '119',\n",
       " 'deploy': '1008',\n",
       " 'redis': '112'}"
      ]
     },
     "execution_count": 4,
     "metadata": {},
     "output_type": "execute_result"
    }
   ],
   "source": [
    "# dict comprehension \n",
    "\n",
    "{ one_line.split(':')[0] :  one_line.split(':')[2]\n",
    " for one_line in open('linux-etc-passwd.txt')\n",
    " if not one_line.startswith(('#', '\\n')) }"
   ]
  },
  {
   "cell_type": "code",
   "execution_count": null,
   "metadata": {},
   "outputs": [],
   "source": []
  }
 ],
 "metadata": {
  "kernelspec": {
   "display_name": "Python 3",
   "language": "python",
   "name": "python3"
  },
  "language_info": {
   "codemirror_mode": {
    "name": "ipython",
    "version": 3
   },
   "file_extension": ".py",
   "mimetype": "text/x-python",
   "name": "python",
   "nbconvert_exporter": "python",
   "pygments_lexer": "ipython3",
   "version": "3.9.1"
  }
 },
 "nbformat": 4,
 "nbformat_minor": 4
}
