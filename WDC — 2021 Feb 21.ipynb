{
 "cells": [
  {
   "cell_type": "markdown",
   "metadata": {},
   "source": [
    "# Agenda\n",
    "\n",
    "1. Magic methods\n",
    "2. Exceptions\n",
    "3. Questions\n",
    "4. Survey + test"
   ]
  },
  {
   "cell_type": "code",
   "execution_count": 4,
   "metadata": {},
   "outputs": [],
   "source": [
    "import random\n",
    "\n",
    "class Person:\n",
    "    x = 100   # Person.x\n",
    "    \n",
    "    def __init__(self, name):\n",
    "        num = random.randint(0, 100)\n",
    "        \n",
    "        self.name = name\n",
    "        self.num = num\n",
    "        \n",
    "    def greet(self):\n",
    "        return f'Hello, {self.name}!'\n",
    "    \n",
    "    def very_excited_greeting(self):\n",
    "        return f'{self.greet()}!!!!!'"
   ]
  },
  {
   "cell_type": "code",
   "execution_count": 3,
   "metadata": {},
   "outputs": [
    {
     "name": "stdout",
     "output_type": "stream",
     "text": [
      "Hello, name!!!!!!\n"
     ]
    }
   ],
   "source": [
    "p = Person('name')\n",
    "print(p.very_excited_greeting())  # "
   ]
  },
  {
   "cell_type": "markdown",
   "metadata": {},
   "source": [
    "# Name search\n",
    "\n",
    "- Variable: L (local), E (enclosing), G (global), B (builtins)\n",
    "- Attribute: I (instance), C (class), P (parents), O (object)"
   ]
  },
  {
   "cell_type": "code",
   "execution_count": null,
   "metadata": {},
   "outputs": [],
   "source": []
  }
 ],
 "metadata": {
  "kernelspec": {
   "display_name": "Python 3",
   "language": "python",
   "name": "python3"
  },
  "language_info": {
   "codemirror_mode": {
    "name": "ipython",
    "version": 3
   },
   "file_extension": ".py",
   "mimetype": "text/x-python",
   "name": "python",
   "nbconvert_exporter": "python",
   "pygments_lexer": "ipython3",
   "version": "3.9.1"
  }
 },
 "nbformat": 4,
 "nbformat_minor": 4
}
